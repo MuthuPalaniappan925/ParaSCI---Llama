{
 "cells": [
  {
   "cell_type": "markdown",
   "id": "00e34eb7",
   "metadata": {},
   "source": [
    "### Importing Packages"
   ]
  },
  {
   "cell_type": "code",
   "execution_count": 2,
   "id": "42d699b4",
   "metadata": {},
   "outputs": [],
   "source": [
    "import numpy as np\n",
    "import pandas as pd\n",
    "import matplotlib.pyplot as plt\n",
    "import seaborn as sns\n",
    "from difflib import SequenceMatcher\n",
    "from nltk.corpus import stopwords\n",
    "from nltk import pos_tag, word_tokenize\n",
    "from nltk import edit_distance\n",
    "from sklearn.feature_extraction.text import CountVectorizer"
   ]
  },
  {
   "cell_type": "markdown",
   "id": "e31182b2",
   "metadata": {},
   "source": [
    "### Loading the Dataset - Train Batch"
   ]
  },
  {
   "cell_type": "code",
   "execution_count": 3,
   "id": "3ae4b1bf",
   "metadata": {},
   "outputs": [
    {
     "data": {
      "text/html": [
       "<div>\n",
       "<style scoped>\n",
       "    .dataframe tbody tr th:only-of-type {\n",
       "        vertical-align: middle;\n",
       "    }\n",
       "\n",
       "    .dataframe tbody tr th {\n",
       "        vertical-align: top;\n",
       "    }\n",
       "\n",
       "    .dataframe thead th {\n",
       "        text-align: right;\n",
       "    }\n",
       "</style>\n",
       "<table border=\"1\" class=\"dataframe\">\n",
       "  <thead>\n",
       "    <tr style=\"text-align: right;\">\n",
       "      <th></th>\n",
       "      <th>sentence1</th>\n",
       "      <th>sentence2</th>\n",
       "    </tr>\n",
       "  </thead>\n",
       "  <tbody>\n",
       "    <tr>\n",
       "      <th>0</th>\n",
       "      <td>for all methods , the tweets were tokenized wi...</td>\n",
       "      <td>the tweets were tokenized and part-ofspeech ta...</td>\n",
       "    </tr>\n",
       "    <tr>\n",
       "      <th>1</th>\n",
       "      <td>it was shown by nederhof et al that prefix pro...</td>\n",
       "      <td>nederhof et al , for instance , show that pref...</td>\n",
       "    </tr>\n",
       "    <tr>\n",
       "      <th>2</th>\n",
       "      <td>first , kikuchi et al proposed a new long shor...</td>\n",
       "      <td>first , kikuchi et al tried to control the len...</td>\n",
       "    </tr>\n",
       "    <tr>\n",
       "      <th>3</th>\n",
       "      <td>with word confusion networks further improves ...</td>\n",
       "      <td>the complexity is dominated by the word confus...</td>\n",
       "    </tr>\n",
       "    <tr>\n",
       "      <th>4</th>\n",
       "      <td>fofe can model the word order in a sequence ba...</td>\n",
       "      <td>fofe can model the word order in a sequence us...</td>\n",
       "    </tr>\n",
       "  </tbody>\n",
       "</table>\n",
       "</div>"
      ],
      "text/plain": [
       "                                           sentence1  \\\n",
       "0  for all methods , the tweets were tokenized wi...   \n",
       "1  it was shown by nederhof et al that prefix pro...   \n",
       "2  first , kikuchi et al proposed a new long shor...   \n",
       "3  with word confusion networks further improves ...   \n",
       "4  fofe can model the word order in a sequence ba...   \n",
       "\n",
       "                                           sentence2  \n",
       "0  the tweets were tokenized and part-ofspeech ta...  \n",
       "1  nederhof et al , for instance , show that pref...  \n",
       "2  first , kikuchi et al tried to control the len...  \n",
       "3  the complexity is dominated by the word confus...  \n",
       "4  fofe can model the word order in a sequence us...  "
      ]
     },
     "execution_count": 3,
     "metadata": {},
     "output_type": "execute_result"
    }
   ],
   "source": [
    "data_ACL = pd.read_csv(\"Data/ACL/train.csv\")\n",
    "data_ACL.head()"
   ]
  },
  {
   "cell_type": "code",
   "execution_count": 20,
   "id": "4b44182b",
   "metadata": {},
   "outputs": [
    {
     "data": {
      "text/plain": [
       "{',',\n",
       " '.',\n",
       " 'a',\n",
       " 'al',\n",
       " 'an',\n",
       " 'by',\n",
       " 'control',\n",
       " 'encoder-decoder',\n",
       " 'et',\n",
       " 'first',\n",
       " 'generated',\n",
       " 'in',\n",
       " 'kikuchi',\n",
       " 'length',\n",
       " 'long',\n",
       " 'memory',\n",
       " 'model',\n",
       " 'network',\n",
       " 'new',\n",
       " 'of',\n",
       " 'proposed',\n",
       " 'sentence',\n",
       " 'short-term',\n",
       " 'summarization',\n",
       " 'task',\n",
       " 'text',\n",
       " 'the',\n",
       " 'to'}"
      ]
     },
     "execution_count": 20,
     "metadata": {},
     "output_type": "execute_result"
    }
   ],
   "source": [
    "set(data_ACL['sentence1'][2].split())"
   ]
  },
  {
   "cell_type": "code",
   "execution_count": 19,
   "id": "32c9c238",
   "metadata": {},
   "outputs": [
    {
     "data": {
      "text/plain": [
       "{',',\n",
       " '.',\n",
       " 'a',\n",
       " 'al',\n",
       " 'an',\n",
       " 'by',\n",
       " 'control',\n",
       " 'encoder-decoder',\n",
       " 'et',\n",
       " 'first',\n",
       " 'generated',\n",
       " 'in',\n",
       " 'kikuchi',\n",
       " 'length',\n",
       " 'model',\n",
       " 'of',\n",
       " 'sentence',\n",
       " 'summarization',\n",
       " 'task',\n",
       " 'text',\n",
       " 'the',\n",
       " 'to',\n",
       " 'tried'}"
      ]
     },
     "execution_count": 19,
     "metadata": {},
     "output_type": "execute_result"
    }
   ],
   "source": [
    "set(data_ACL['sentence2'][2].split())"
   ]
  },
  {
   "cell_type": "code",
   "execution_count": 109,
   "id": "c5576be2",
   "metadata": {},
   "outputs": [
    {
     "data": {
      "text/html": [
       "<div>\n",
       "<style scoped>\n",
       "    .dataframe tbody tr th:only-of-type {\n",
       "        vertical-align: middle;\n",
       "    }\n",
       "\n",
       "    .dataframe tbody tr th {\n",
       "        vertical-align: top;\n",
       "    }\n",
       "\n",
       "    .dataframe thead th {\n",
       "        text-align: right;\n",
       "    }\n",
       "</style>\n",
       "<table border=\"1\" class=\"dataframe\">\n",
       "  <thead>\n",
       "    <tr style=\"text-align: right;\">\n",
       "      <th></th>\n",
       "      <th>sentence1</th>\n",
       "      <th>sentence2</th>\n",
       "    </tr>\n",
       "  </thead>\n",
       "  <tbody>\n",
       "    <tr>\n",
       "      <th>0</th>\n",
       "      <td>we find the optimal alignment of the clean and...</td>\n",
       "      <td>we find the optimal alignment of the original ...</td>\n",
       "    </tr>\n",
       "    <tr>\n",
       "      <th>1</th>\n",
       "      <td>end-to-end neural machine translation has gain...</td>\n",
       "      <td>neural machine translation has significantly i...</td>\n",
       "    </tr>\n",
       "    <tr>\n",
       "      <th>2</th>\n",
       "      <td>moreover , asymptotically for large k , the so...</td>\n",
       "      <td>based on the van emde boas tree , the sorting ...</td>\n",
       "    </tr>\n",
       "    <tr>\n",
       "      <th>3</th>\n",
       "      <td>we build on the recent success of deep learnin...</td>\n",
       "      <td>we follow the recent self-localization paradig...</td>\n",
       "    </tr>\n",
       "    <tr>\n",
       "      <th>4</th>\n",
       "      <td>the trainable parameters are initialized using...</td>\n",
       "      <td>the weights are initialized using the xavier i...</td>\n",
       "    </tr>\n",
       "  </tbody>\n",
       "</table>\n",
       "</div>"
      ],
      "text/plain": [
       "                                           sentence1  \\\n",
       "0  we find the optimal alignment of the clean and...   \n",
       "1  end-to-end neural machine translation has gain...   \n",
       "2  moreover , asymptotically for large k , the so...   \n",
       "3  we build on the recent success of deep learnin...   \n",
       "4  the trainable parameters are initialized using...   \n",
       "\n",
       "                                           sentence2  \n",
       "0  we find the optimal alignment of the original ...  \n",
       "1  neural machine translation has significantly i...  \n",
       "2  based on the van emde boas tree , the sorting ...  \n",
       "3  we follow the recent self-localization paradig...  \n",
       "4  the weights are initialized using the xavier i...  "
      ]
     },
     "execution_count": 109,
     "metadata": {},
     "output_type": "execute_result"
    }
   ],
   "source": [
    "data_arxiv = pd.read_csv(\"Data/arXiv/train.csv\")\n",
    "data_arxiv.head()"
   ]
  },
  {
   "cell_type": "code",
   "execution_count": 110,
   "id": "aa8d6e2e",
   "metadata": {},
   "outputs": [
    {
     "data": {
      "text/plain": [
       "(309834, 2)"
      ]
     },
     "execution_count": 110,
     "metadata": {},
     "output_type": "execute_result"
    }
   ],
   "source": [
    "data_arxiv.shape"
   ]
  },
  {
   "cell_type": "markdown",
   "id": "a2ce163b",
   "metadata": {},
   "source": [
    "### Combining the Data Sources"
   ]
  },
  {
   "cell_type": "code",
   "execution_count": 111,
   "id": "6c9ee688",
   "metadata": {},
   "outputs": [
    {
     "data": {
      "text/html": [
       "<div>\n",
       "<style scoped>\n",
       "    .dataframe tbody tr th:only-of-type {\n",
       "        vertical-align: middle;\n",
       "    }\n",
       "\n",
       "    .dataframe tbody tr th {\n",
       "        vertical-align: top;\n",
       "    }\n",
       "\n",
       "    .dataframe thead th {\n",
       "        text-align: right;\n",
       "    }\n",
       "</style>\n",
       "<table border=\"1\" class=\"dataframe\">\n",
       "  <thead>\n",
       "    <tr style=\"text-align: right;\">\n",
       "      <th></th>\n",
       "      <th>sentence1</th>\n",
       "      <th>sentence2</th>\n",
       "    </tr>\n",
       "  </thead>\n",
       "  <tbody>\n",
       "    <tr>\n",
       "      <th>0</th>\n",
       "      <td>for all methods , the tweets were tokenized wi...</td>\n",
       "      <td>the tweets were tokenized and part-ofspeech ta...</td>\n",
       "    </tr>\n",
       "    <tr>\n",
       "      <th>1</th>\n",
       "      <td>it was shown by nederhof et al that prefix pro...</td>\n",
       "      <td>nederhof et al , for instance , show that pref...</td>\n",
       "    </tr>\n",
       "    <tr>\n",
       "      <th>2</th>\n",
       "      <td>first , kikuchi et al proposed a new long shor...</td>\n",
       "      <td>first , kikuchi et al tried to control the len...</td>\n",
       "    </tr>\n",
       "    <tr>\n",
       "      <th>3</th>\n",
       "      <td>with word confusion networks further improves ...</td>\n",
       "      <td>the complexity is dominated by the word confus...</td>\n",
       "    </tr>\n",
       "    <tr>\n",
       "      <th>4</th>\n",
       "      <td>fofe can model the word order in a sequence ba...</td>\n",
       "      <td>fofe can model the word order in a sequence us...</td>\n",
       "    </tr>\n",
       "  </tbody>\n",
       "</table>\n",
       "</div>"
      ],
      "text/plain": [
       "                                           sentence1  \\\n",
       "0  for all methods , the tweets were tokenized wi...   \n",
       "1  it was shown by nederhof et al that prefix pro...   \n",
       "2  first , kikuchi et al proposed a new long shor...   \n",
       "3  with word confusion networks further improves ...   \n",
       "4  fofe can model the word order in a sequence ba...   \n",
       "\n",
       "                                           sentence2  \n",
       "0  the tweets were tokenized and part-ofspeech ta...  \n",
       "1  nederhof et al , for instance , show that pref...  \n",
       "2  first , kikuchi et al tried to control the len...  \n",
       "3  the complexity is dominated by the word confus...  \n",
       "4  fofe can model the word order in a sequence us...  "
      ]
     },
     "execution_count": 111,
     "metadata": {},
     "output_type": "execute_result"
    }
   ],
   "source": [
    "data = pd.concat([data_ACL,data_arxiv],ignore_index=True)\n",
    "data.head()"
   ]
  },
  {
   "cell_type": "code",
   "execution_count": 112,
   "id": "200bfa8c",
   "metadata": {},
   "outputs": [
    {
     "data": {
      "text/plain": [
       "(338717, 2)"
      ]
     },
     "execution_count": 112,
     "metadata": {},
     "output_type": "execute_result"
    }
   ],
   "source": [
    "data.shape"
   ]
  },
  {
   "cell_type": "code",
   "execution_count": 113,
   "id": "51836261",
   "metadata": {},
   "outputs": [
    {
     "name": "stdout",
     "output_type": "stream",
     "text": [
      "True (338717, 2)\n"
     ]
    }
   ],
   "source": [
    "print(data.shape[0] == data_ACL.shape[0] + data_arxiv.shape[0],data.shape)"
   ]
  },
  {
   "cell_type": "code",
   "execution_count": 114,
   "id": "a80fd0f0",
   "metadata": {},
   "outputs": [
    {
     "name": "stdout",
     "output_type": "stream",
     "text": [
      "<class 'pandas.core.frame.DataFrame'>\n",
      "RangeIndex: 338717 entries, 0 to 338716\n",
      "Data columns (total 2 columns):\n",
      " #   Column     Non-Null Count   Dtype \n",
      "---  ------     --------------   ----- \n",
      " 0   sentence1  338717 non-null  object\n",
      " 1   sentence2  338717 non-null  object\n",
      "dtypes: object(2)\n",
      "memory usage: 5.2+ MB\n"
     ]
    }
   ],
   "source": [
    "data.info()"
   ]
  },
  {
   "cell_type": "markdown",
   "id": "81d7f4a6",
   "metadata": {},
   "source": [
    "Column Details:\n",
    "  1. Column Name: \"sentence1\"\n",
    "     - Non-Null Count: 338717\n",
    "     - Dtype: object\n",
    "     - Description: This column contains textual data(sci-data).\n",
    "     - Non-Null Count: Indicates that there are 338,717 non-null (non-missing) entries in this Feature.\n",
    "\n",
    "  2. Column Name: \"sentence2\"\n",
    "     - Non-Null Count: 338717\n",
    "     - Dtype: object\n",
    "     - Description: Similar to \"sentence1,\" This column contains textual data(sci-data).\n",
    "     - Non-Null Count: Indicates that there are 338,717 non-null entries in this Feature."
   ]
  },
  {
   "cell_type": "code",
   "execution_count": 115,
   "id": "f910ac03",
   "metadata": {},
   "outputs": [],
   "source": [
    "df = data.copy()"
   ]
  },
  {
   "cell_type": "code",
   "execution_count": 11,
   "id": "ea5829b5",
   "metadata": {},
   "outputs": [],
   "source": [
    "data = data[:1000]"
   ]
  },
  {
   "cell_type": "markdown",
   "id": "d4f6980f",
   "metadata": {},
   "source": [
    "### Let's Perform Some EDA"
   ]
  },
  {
   "cell_type": "code",
   "execution_count": 12,
   "id": "2738ce60",
   "metadata": {},
   "outputs": [],
   "source": [
    "data['len_sent_1'] = data['sentence1'].apply(len)\n",
    "data['len_sent_2'] = data['sentence2'].apply(len)"
   ]
  },
  {
   "cell_type": "code",
   "execution_count": 13,
   "id": "34f5ef74",
   "metadata": {},
   "outputs": [
    {
     "data": {
      "text/plain": [
       "Text(0, 0.5, 'Frequency')"
      ]
     },
     "execution_count": 13,
     "metadata": {},
     "output_type": "execute_result"
    },
    {
     "data": {
      "image/png": "[encoded data removed]",
      "text/plain": [
       "<Figure size 720x360 with 1 Axes>"
      ]
     },
     "metadata": {
      "needs_background": "light"
     },
     "output_type": "display_data"
    }
   ],
   "source": [
    "plt.figure(figsize=(10, 5))\n",
    "plt.hist(data['len_sent_1'], bins=200, color='skyblue', edgecolor='black')\n",
    "plt.title('Sentence_1 Length Distribution')\n",
    "plt.xlabel('Length')\n",
    "plt.ylabel('Frequency')"
   ]
  },
  {
   "cell_type": "code",
   "execution_count": 14,
   "id": "9580e4c0",
   "metadata": {},
   "outputs": [
    {
     "data": {
      "text/plain": [
       "Text(0, 0.5, 'Frequency')"
      ]
     },
     "execution_count": 14,
     "metadata": {},
     "output_type": "execute_result"
    },
    {
     "data": {
      "image/png": "[encoded data removed]",
      "text/plain": [
       "<Figure size 432x288 with 1 Axes>"
      ]
     },
     "metadata": {
      "needs_background": "light"
     },
     "output_type": "display_data"
    }
   ],
   "source": [
    "plt.hist(data['len_sent_2'], bins=200, color='skyblue', edgecolor='black')\n",
    "plt.title('Sentence_2 Length Distribution')\n",
    "plt.xlabel('Length')\n",
    "plt.ylabel('Frequency')"
   ]
  },
  {
   "cell_type": "code",
   "execution_count": 15,
   "id": "6be4f340",
   "metadata": {},
   "outputs": [],
   "source": [
    "data['editDistance'] = data.apply(lambda record: edit_distance(record['sentence1'],record['sentence2']),axis=1)"
   ]
  },
  {
   "cell_type": "code",
   "execution_count": 16,
   "id": "37287362",
   "metadata": {},
   "outputs": [
    {
     "data": {
      "text/plain": [
       "Text(0, 0.5, 'Frequency')"
      ]
     },
     "execution_count": 16,
     "metadata": {},
     "output_type": "execute_result"
    },
    {
     "data": {
      "image/png": "[encoded data removed]",
      "text/plain": [
       "<Figure size 432x288 with 1 Axes>"
      ]
     },
     "metadata": {
      "needs_background": "light"
     },
     "output_type": "display_data"
    }
   ],
   "source": [
    "plt.hist(data['editDistance'], bins=20, color='lightgreen', edgecolor='black')\n",
    "plt.title('Edit Distance Distribution')\n",
    "plt.xlabel('Edit Distance')\n",
    "plt.ylabel('Frequency')"
   ]
  },
  {
   "cell_type": "code",
   "execution_count": 17,
   "id": "2e985dfe",
   "metadata": {},
   "outputs": [],
   "source": [
    "data['similarityRation'] = data.apply(lambda record: SequenceMatcher(None,record['sentence1'],record['sentence2']).ratio(),axis=1)"
   ]
  },
  {
   "cell_type": "code",
   "execution_count": 18,
   "id": "157ddaa5",
   "metadata": {},
   "outputs": [
    {
     "data": {
      "text/plain": [
       "Text(0, 0.5, 'Frequency')"
      ]
     },
     "execution_count": 18,
     "metadata": {},
     "output_type": "execute_result"
    },
    {
     "data": {
      "image/png": "[encoded data removed]",
      "text/plain": [
       "<Figure size 432x288 with 1 Axes>"
      ]
     },
     "metadata": {
      "needs_background": "light"
     },
     "output_type": "display_data"
    }
   ],
   "source": [
    "plt.hist(data['similarityRation'], bins=20, color='lightcoral', edgecolor='black')\n",
    "plt.title('Similarity Ratio Distribution')\n",
    "plt.xlabel('Similarity Ratio')\n",
    "plt.ylabel('Frequency')"
   ]
  },
  {
   "cell_type": "markdown",
   "id": "ab467443",
   "metadata": {},
   "source": [
    "#### Text-Length Ratio\n",
    "- This help us understand how much the length changes during paraphrasing."
   ]
  },
  {
   "cell_type": "code",
   "execution_count": 19,
   "id": "7ef2d4f7",
   "metadata": {},
   "outputs": [],
   "source": [
    "data['ratioLength'] = data['len_sent_2'] / data['len_sent_1']"
   ]
  },
  {
   "cell_type": "code",
   "execution_count": 20,
   "id": "40ccd8de",
   "metadata": {},
   "outputs": [
    {
     "data": {
      "text/plain": [
       "Text(0, 0.5, 'Frequency')"
      ]
     },
     "execution_count": 20,
     "metadata": {},
     "output_type": "execute_result"
    },
    {
     "data": {
      "image/png": "[encoded data removed]",
      "text/plain": [
       "<Figure size 432x288 with 1 Axes>"
      ]
     },
     "metadata": {
      "needs_background": "light"
     },
     "output_type": "display_data"
    }
   ],
   "source": [
    "plt.hist(data['ratioLength'], bins=20, color='lightcoral', edgecolor='black')\n",
    "plt.title('Sentence_2 vs Sentence_1 Length Ratio Distribution')\n",
    "plt.xlabel('Length Ratio')\n",
    "plt.ylabel('Frequency')"
   ]
  },
  {
   "cell_type": "code",
   "execution_count": 21,
   "id": "d17f88ec",
   "metadata": {},
   "outputs": [],
   "source": [
    "stop_words = set(stopwords.words('english'))"
   ]
  },
  {
   "cell_type": "code",
   "execution_count": 22,
   "id": "8ac59437",
   "metadata": {},
   "outputs": [],
   "source": [
    "data['sent_1_stopword_count'] = data['sentence1'].apply(lambda x: len([word for word in x.split() if word.lower() in stop_words]))\n",
    "data['sent_2_stopword_count'] = data['sentence2'].apply(lambda x: len([word for word in x.split() if word.lower() in stop_words]))"
   ]
  },
  {
   "cell_type": "code",
   "execution_count": 23,
   "id": "dd72f3d1",
   "metadata": {},
   "outputs": [
    {
     "data": {
      "image/png": "[encoded data removed]",
      "text/plain": [
       "<Figure size 720x360 with 2 Axes>"
      ]
     },
     "metadata": {
      "needs_background": "light"
     },
     "output_type": "display_data"
    }
   ],
   "source": [
    "plt.figure(figsize=(10, 5))\n",
    "\n",
    "plt.subplot(1, 2, 1)\n",
    "plt.hist(data['sent_1_stopword_count'], bins=10, color='skyblue', edgecolor='black')\n",
    "plt.title('Sentence 1 Stopword Count Distribution')\n",
    "plt.xlabel('Stopword Count')\n",
    "plt.ylabel('Frequency')\n",
    "\n",
    "plt.subplot(1, 2, 2)\n",
    "plt.hist(data['sent_2_stopword_count'], bins=10, color='skyblue', edgecolor='black')\n",
    "plt.title('Sentence 2 Stopword Count Distribution')\n",
    "plt.xlabel('Stopword Count')\n",
    "plt.ylabel('Frequency')\n",
    "\n",
    "plt.tight_layout()\n",
    "plt.show()"
   ]
  },
  {
   "cell_type": "markdown",
   "id": "01dbe3cd",
   "metadata": {},
   "source": [
    "#### Word Count Analysis"
   ]
  },
  {
   "cell_type": "code",
   "execution_count": 24,
   "id": "33290bf4",
   "metadata": {},
   "outputs": [],
   "source": [
    "data['word_count_sent_1'] = data['sentence1'].apply(lambda x: len(x.split()))\n",
    "data['word_count_sent_2'] = data['sentence2'].apply(lambda x: len(x.split()))"
   ]
  },
  {
   "cell_type": "code",
   "execution_count": 25,
   "id": "0fdf1295",
   "metadata": {},
   "outputs": [
    {
     "data": {
      "image/png": "[encoded data removed]",
      "text/plain": [
       "<Figure size 720x360 with 2 Axes>"
      ]
     },
     "metadata": {
      "needs_background": "light"
     },
     "output_type": "display_data"
    }
   ],
   "source": [
    "plt.figure(figsize=(10, 5))\n",
    "plt.subplot(1, 2, 1)\n",
    "plt.hist(data['word_count_sent_1'], bins=20, color='skyblue', edgecolor='black')\n",
    "plt.title('Sentence 1 Word Count Distribution')\n",
    "plt.xlabel('Word Count')\n",
    "plt.ylabel('Frequency')\n",
    "\n",
    "plt.subplot(1, 2, 2)\n",
    "plt.hist(data['word_count_sent_2'], bins=20, color='salmon', edgecolor='black')\n",
    "plt.title('Sentence 2 Word Count Distribution')\n",
    "plt.xlabel('Word Count')\n",
    "plt.ylabel('Frequency')\n",
    "\n",
    "plt.tight_layout()\n",
    "plt.show()"
   ]
  },
  {
   "cell_type": "markdown",
   "id": "1c8e16ed",
   "metadata": {},
   "source": [
    "- Similar word counts indicate an effort to maintain consistent sentence lengths between Sentence 1 and Sentence 2."
   ]
  },
  {
   "cell_type": "markdown",
   "id": "b1e56a65",
   "metadata": {},
   "source": [
    "#### Vocabulary Analysis"
   ]
  },
  {
   "cell_type": "code",
   "execution_count": 26,
   "id": "d05ffb4c",
   "metadata": {},
   "outputs": [],
   "source": [
    "data['sent_1_vocab_size'] = data['sentence1'].apply(lambda x: len(set(x.split())))\n",
    "data['sent_2_vocab_size'] = data['sentence2'].apply(lambda x: len(set(x.split())))"
   ]
  },
  {
   "cell_type": "code",
   "execution_count": 27,
   "id": "33618fc7",
   "metadata": {},
   "outputs": [
    {
     "data": {
      "image/png": "[encoded data removed]",
      "text/plain": [
       "<Figure size 720x360 with 2 Axes>"
      ]
     },
     "metadata": {
      "needs_background": "light"
     },
     "output_type": "display_data"
    }
   ],
   "source": [
    "plt.figure(figsize=(10, 5))\n",
    "plt.subplot(1, 2, 1)\n",
    "plt.hist(data['sent_1_vocab_size'], bins=10, color='skyblue', edgecolor='black')\n",
    "plt.title('Sentence_1 Vocabulary Size Distribution')\n",
    "plt.xlabel('Vocabulary Size')\n",
    "plt.ylabel('Frequency')\n",
    "\n",
    "plt.subplot(1, 2, 2)\n",
    "plt.hist(data['sent_2_vocab_size'], bins=10, color='salmon', edgecolor='black')\n",
    "plt.title('Sentence)2 Vocabulary Size Distribution')\n",
    "plt.xlabel('Vocabulary Size')\n",
    "plt.ylabel('Frequency')\n",
    "\n",
    "plt.tight_layout()\n",
    "plt.show()"
   ]
  },
  {
   "cell_type": "code",
   "execution_count": 28,
   "id": "15a19735",
   "metadata": {},
   "outputs": [],
   "source": [
    "data['sent_1_pos_tags'] = data['sentence1'].apply(lambda x: pos_tag(word_tokenize(x)))\n",
    "data['sent_2_pos_tags'] = data['sentence2'].apply(lambda x: pos_tag(word_tokenize(x)))"
   ]
  },
  {
   "cell_type": "code",
   "execution_count": 29,
   "id": "7897873a",
   "metadata": {},
   "outputs": [
    {
     "name": "stdout",
     "output_type": "stream",
     "text": [
      "\n",
      "Sample POS Tags for Sentence_1:\n",
      "[('for', 'IN'), ('all', 'DT'), ('methods', 'NNS'), (',', ','), ('the', 'DT'), ('tweets', 'NNS'), ('were', 'VBD'), ('tokenized', 'VBN'), ('with', 'IN'), ('the', 'DT'), ('cmu', 'NN'), ('twitter', 'NN'), ('nlp', 'JJ'), ('tool', 'NN'), ('.', '.')]\n",
      "\n",
      "Sample POS Tags for Sentence_2:\n",
      "[('the', 'DT'), ('tweets', 'NNS'), ('were', 'VBD'), ('tokenized', 'VBN'), ('and', 'CC'), ('part-ofspeech', 'JJ'), ('tagged', 'NN'), ('with', 'IN'), ('the', 'DT'), ('cmu', 'NN'), ('ark', 'NN'), ('twitter', 'NN'), ('nlp', 'JJ'), ('tool', 'NN'), ('and', 'CC'), ('stanford', 'NN'), ('corenlp', 'NN'), ('.', '.')]\n"
     ]
    }
   ],
   "source": [
    "print(\"\\nSample POS Tags for Sentence_1:\")\n",
    "print(data['sent_1_pos_tags'].iloc[0])\n",
    "\n",
    "print(\"\\nSample POS Tags for Sentence_2:\")\n",
    "print(data['sent_2_pos_tags'].iloc[0])"
   ]
  },
  {
   "cell_type": "code",
   "execution_count": 30,
   "id": "24b05f95",
   "metadata": {},
   "outputs": [
    {
     "name": "stdout",
     "output_type": "stream",
     "text": [
      "\n",
      "Top 10 Sentence_1 Bigrams:\n",
      "[('et al', 94), ('of the', 93), ('language model', 82), ('we use', 82), ('using the', 79), ('on the', 72), ('is the', 66), ('in the', 62), ('we used', 62), ('in this', 60)]\n",
      "\n",
      "Top 10 Sentence_2 Bigrams:\n",
      "[('we use', 92), ('et al', 91), ('of the', 90), ('language model', 75), ('using the', 74), ('is the', 67), ('in the', 64), ('we used', 58), ('on the', 56), ('in this', 56)]\n"
     ]
    }
   ],
   "source": [
    "def get_top_ngrams(corpus, n=2, top=10):\n",
    "    vec = CountVectorizer(ngram_range=(n, n)).fit(corpus)\n",
    "    bag_of_words = vec.transform(corpus)\n",
    "    sum_words = bag_of_words.sum(axis=0)\n",
    "    words_freq = [(word, sum_words[0, idx]) for word, idx in vec.vocabulary_.items()]\n",
    "    words_freq = sorted(words_freq, key=lambda x: x[1], reverse=True)\n",
    "    return words_freq[:top]\n",
    "\n",
    "## Getting top 10 bigrams for both original and paraphrased sentences\n",
    "sent_1_bigrams = get_top_ngrams(data['sentence1'], n=2)\n",
    "sent_2_bigrams = get_top_ngrams(data['sentence2'], n=2)\n",
    "\n",
    "print(\"\\nTop 10 Sentence_1 Bigrams:\")\n",
    "print(sent_1_bigrams)\n",
    "\n",
    "print(\"\\nTop 10 Sentence_2 Bigrams:\")\n",
    "print(sent_2_bigrams)"
   ]
  },
  {
   "cell_type": "code",
   "execution_count": 31,
   "id": "4df4b9f5",
   "metadata": {},
   "outputs": [],
   "source": [
    "def visualize_top_ngrams(ngrams, title):\n",
    "    words, frequencies = zip(*ngrams)\n",
    "    plt.figure(figsize=(10, 6))\n",
    "    plt.barh(words, frequencies, color='skyblue')\n",
    "    plt.xlabel('Frequency')\n",
    "    plt.title(title)\n",
    "    plt.show()"
   ]
  },
  {
   "cell_type": "code",
   "execution_count": 32,
   "id": "99c1f69d",
   "metadata": {},
   "outputs": [
    {
     "data": {
      "image/png": "[encoded data removed]",
      "text/plain": [
       "<Figure size 720x432 with 1 Axes>"
      ]
     },
     "metadata": {
      "needs_background": "light"
     },
     "output_type": "display_data"
    },
    {
     "data": {
      "image/png": "[encoded data removed]",
      "text/plain": [
       "<Figure size 720x432 with 1 Axes>"
      ]
     },
     "metadata": {
      "needs_background": "light"
     },
     "output_type": "display_data"
    }
   ],
   "source": [
    "visualize_top_ngrams(sent_1_bigrams,'Top 10 Sentence_1 Bigrams')\n",
    "visualize_top_ngrams(sent_2_bigrams, 'Top 10 Sentence_2 Bigrams')"
   ]
  }
 ],
 "metadata": {
  "kernelspec": {
   "display_name": "Python 3 (ipykernel)",
   "language": "python",
   "name": "python3"
  },
  "language_info": {
   "codemirror_mode": {
    "name": "ipython",
    "version": 3
   },
   "file_extension": ".py",
   "mimetype": "text/x-python",
   "name": "python",
   "nbconvert_exporter": "python",
   "pygments_lexer": "ipython3",
   "version": "3.9.12"
  }
 },
 "nbformat": 4,
 "nbformat_minor": 5
}
